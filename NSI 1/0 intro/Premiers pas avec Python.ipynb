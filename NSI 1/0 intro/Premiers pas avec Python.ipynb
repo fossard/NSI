{
 "cells": [
  {
   "cell_type": "markdown",
   "metadata": {},
   "source": [
    "# Premiers pas avec Python\n",
    "Ce document est un notebook.   \n",
    "Il comporte deux types de cellules :\n",
    "- des cellules de **texte** (markdown). Un double-clic permet de passer en mode édition.\n",
    "- des cellules de **code** Python. Elles commencent par Entrée[..] ou In[..].    \n",
    " \n",
    "\n",
    "Pour éxecuter une cellule (texte ou code) :  `ctrl + entrée`\n",
    "\n",
    "Vous devez travailler sur une copie de ce document, enregistrée dans votre espace de travail.  \n",
    "Au fur et à mesure de la lecture vous devez exécuter chacune des cellules python.  "
   ]
  },
  {
   "cell_type": "code",
   "execution_count": null,
   "metadata": {},
   "outputs": [],
   "source": [
    "2 + 3"
   ]
  },
  {
   "cell_type": "markdown",
   "metadata": {},
   "source": [
    "Ce qui suit un `#` n'est pas éxécuté. Ceci permet de glisser des commentatire dans son code"
   ]
  },
  {
   "cell_type": "code",
   "execution_count": null,
   "metadata": {},
   "outputs": [],
   "source": [
    "0.1 + 0.2 # Etonnant non !! (La représentation des réels non-entiers est sujette à approximation)"
   ]
  },
  {
   "cell_type": "markdown",
   "metadata": {},
   "source": [
    "## 1. Opérations sur les nombres \n",
    "Utilisez la cellule suivante pour tester les opérations suivantes puis indiquez leur sens dans la liste  \n",
    "Un double-clic ici pour passer en mode édition puis ctrl+entrée pour l'éxécuter.\n",
    "- `+` : \n",
    "- `-` : \n",
    "- `*` : \n",
    "- `**` : \n",
    "- `/` : \n",
    "- `//` : \n",
    "- `%` : "
   ]
  },
  {
   "cell_type": "code",
   "execution_count": null,
   "metadata": {
    "scrolled": false
   },
   "outputs": [],
   "source": [
    "15 + 2 # testez ici les différentes opérations en remplaçant ce code par le votre"
   ]
  },
  {
   "cell_type": "markdown",
   "metadata": {},
   "source": [
    "## 2. Variables et affectation \n",
    "Une variable est une zone de la mémoire qui permet de stocker une valeur (un nombre, du texte, ...)  \n",
    "Pour être utilisée une variable doit porter un nom (identifiant)  \n",
    "Je décide d'appeler ma variable `ma_variable`  \n",
    "Testez la cellule suivante.  \n",
    "Vous obtenez un message d'erreur;  Traduisez ici  la dernière ligne : ...\n"
   ]
  },
  {
   "cell_type": "code",
   "execution_count": null,
   "metadata": {},
   "outputs": [],
   "source": [
    "ma_variable"
   ]
  },
  {
   "cell_type": "markdown",
   "metadata": {},
   "source": [
    "Lors de sa première utilisation une variable doit être définie.  \n",
    "Pour définir une variable en python il suffit de lui affecter une valeur en utilisant le symbole `=`  \n",
    "Exécutez la cellule suivante pour définir ma_variable et lui attribuer la valeur 3"
   ]
  },
  {
   "cell_type": "code",
   "execution_count": null,
   "metadata": {},
   "outputs": [],
   "source": [
    "ma_variable = 3"
   ]
  },
  {
   "cell_type": "markdown",
   "metadata": {},
   "source": [
    "L'exécution de la cellule suivante ne doit plus poser de problème"
   ]
  },
  {
   "cell_type": "code",
   "execution_count": null,
   "metadata": {},
   "outputs": [],
   "source": [
    "ma_variable"
   ]
  },
  {
   "cell_type": "markdown",
   "metadata": {},
   "source": [
    "On peut changer la valeur de la variable"
   ]
  },
  {
   "cell_type": "code",
   "execution_count": null,
   "metadata": {},
   "outputs": [],
   "source": [
    "ma_variable = 5"
   ]
  },
  {
   "cell_type": "code",
   "execution_count": null,
   "metadata": {},
   "outputs": [],
   "source": [
    "ma_variable"
   ]
  },
  {
   "cell_type": "markdown",
   "metadata": {},
   "source": [
    "On peut attribuer à une variable une valeur calculée."
   ]
  },
  {
   "cell_type": "code",
   "execution_count": null,
   "metadata": {},
   "outputs": [],
   "source": [
    "ma_variable = 2 * abs(-3)"
   ]
  },
  {
   "cell_type": "code",
   "execution_count": null,
   "metadata": {},
   "outputs": [],
   "source": [
    "ma_variable"
   ]
  },
  {
   "cell_type": "markdown",
   "metadata": {},
   "source": [
    "`abs` est une fonction Python. Que renvoie t-elle ?"
   ]
  },
  {
   "cell_type": "markdown",
   "metadata": {},
   "source": [
    "Devinez la valeur de `ma_variable` après exécution du code suivant; vérifiez ensuite"
   ]
  },
  {
   "cell_type": "code",
   "execution_count": null,
   "metadata": {},
   "outputs": [],
   "source": [
    "ma_variable = 5\n",
    "ma_variable = ma_variable + 3"
   ]
  },
  {
   "cell_type": "code",
   "execution_count": null,
   "metadata": {},
   "outputs": [],
   "source": [
    "ma_variable"
   ]
  },
  {
   "cell_type": "markdown",
   "metadata": {},
   "source": [
    "### Règle de nommage\n",
    "Testez les différenents noms de variables suivants; certains ne sont pas permis et provoquerons une erreur.\n",
    "\n",
    "toto; prix-timbre; Aire, AGE, age_capitaine; agePiere; nb1; 1nb; PI; nom\\@toto; mémé; and; if; a; score joueur\n",
    "\n",
    "\n",
    "Quelle règle doit respecter un nom de variable en Python? ...\n",
    "  "
   ]
  },
  {
   "cell_type": "code",
   "execution_count": null,
   "metadata": {},
   "outputs": [],
   "source": [
    "toto= 1  # par exemple pour le premier test; si il n'y a pas de message d'erreur c'est que le nom de variable est acceptable"
   ]
  },
  {
   "cell_type": "markdown",
   "metadata": {},
   "source": [
    "## 3. Types de variables\n",
    "La valeur contenue dans une variable est un objet qui est d'un certain type.  \n",
    "Le type de la variable déterminera les opérations possibles.  \n",
    "La fonction `type()` renvoie le type de la variable passée en paramètre."
   ]
  },
  {
   "cell_type": "code",
   "execution_count": null,
   "metadata": {},
   "outputs": [],
   "source": [
    "ma_variable = 3\n",
    "type( ma_variable)"
   ]
  },
  {
   "cell_type": "markdown",
   "metadata": {},
   "source": [
    "Complétez (remplaçez le 3 de la première ligne de la cellule précédente successivement par 2.5,\"bonjour\", 'coucou', True  \n",
    "`3` est de type : `int`  \n",
    "`2.5` est de type :   \n",
    "`\"bonjour\"` de type :   \n",
    "`'coucou'` de type :   \n",
    "`True` de type : "
   ]
  },
  {
   "cell_type": "markdown",
   "metadata": {},
   "source": [
    "## 4. Opérations sur les chaines de caractères\n",
    "La **concaténation** de chaines de caractères consiste à les \"coller\". On utilise pour cela l'opérateur d'addition"
   ]
  },
  {
   "cell_type": "code",
   "execution_count": null,
   "metadata": {},
   "outputs": [],
   "source": [
    "nom = \"toto\"\n",
    "salutation = \"Bonjour\"\n",
    "message = salutation + \" \" + nom\n",
    "message"
   ]
  },
  {
   "cell_type": "markdown",
   "metadata": {},
   "source": [
    "Traduire le message d'erreur obtenu avec le code ci-dessous :"
   ]
  },
  {
   "cell_type": "code",
   "execution_count": null,
   "metadata": {},
   "outputs": [],
   "source": [
    "mot_de_passe = \"toto\" + 4\n",
    "mot_de_passe"
   ]
  },
  {
   "cell_type": "markdown",
   "metadata": {},
   "source": [
    "Il nous faut donc transformer le nombre 4 en chaine de caractère.  \n",
    "Deux possibiltés ici :  \n",
    "- Soit on place le 4 entre guillemets :  \n",
    "mot_de_passe = \"toto\" + \"4\"\n",
    "- Soit on utilise la fonction `str` qui renvoie la chaine de caractère de la valeur passée en paramètre  \n",
    "mot_de_passe = \"toto\" + str(4)  \n",
    "\n",
    "Testez ces deux possibilités pour debugguer le code précédent."
   ]
  },
  {
   "cell_type": "markdown",
   "metadata": {},
   "source": [
    "L'opérateur de multiplication sur les chaine de caractères :"
   ]
  },
  {
   "cell_type": "code",
   "execution_count": null,
   "metadata": {},
   "outputs": [],
   "source": [
    "symbole = '-'\n",
    "ligne = symbole * 10\n",
    "ligne"
   ]
  },
  {
   "cell_type": "markdown",
   "metadata": {},
   "source": [
    "## 5. Entrées/Sorties  \n",
    "Les entrées/sorties sont les interractions entre le programme et l'utilisateur.  \n",
    "La **sortie** est un résultat émis par le programme, ici la sortie est un affichage à l'écran.  \n",
    "L'**entrée** est une information fournie au programme, ici on fera une saisie au clavier.  \n",
    "\n",
    "### Sortie avec print\n",
    "Vous avez remarqué que lorsque l'on tape une valeur, un calcul, une variable la valeur est affichée à l'écran.  \n",
    "En fait dans un programme (hors fenêtre d'exécution comme ce notebook) il faut demander explicitement au programme un affichage. Pour cela on utilise la fonction `print`"
   ]
  },
  {
   "cell_type": "code",
   "execution_count": null,
   "metadata": {},
   "outputs": [],
   "source": [
    "print(\"toto\")"
   ]
  },
  {
   "cell_type": "markdown",
   "metadata": {},
   "source": [
    "On peut afficher plusieurs valeurs :"
   ]
  },
  {
   "cell_type": "code",
   "execution_count": null,
   "metadata": {},
   "outputs": [],
   "source": [
    "nom = 'toto'\n",
    "age = 7\n",
    "print(nom, \"a\", age, \"ans\")"
   ]
  },
  {
   "cell_type": "markdown",
   "metadata": {},
   "source": [
    "### Entrée avec input\n",
    "La fonction `input` permet à l'utilisateur de fournir une valeur à un programme."
   ]
  },
  {
   "cell_type": "code",
   "execution_count": null,
   "metadata": {},
   "outputs": [],
   "source": [
    "nom = input(\"Quel est votre nom ?\")\n",
    "print(\"Bonjour\", nom)"
   ]
  },
  {
   "cell_type": "markdown",
   "metadata": {},
   "source": [
    "La fonction `input` à un seul paramètre : le message affiché, il est de typre `str`.  \n",
    "Elle renvoie la chaine de caractère entrée par l'utilisateur."
   ]
  },
  {
   "cell_type": "code",
   "execution_count": null,
   "metadata": {},
   "outputs": [],
   "source": [
    "# Affiche le double de la valeur saisie\n",
    "nb = input(\"Entrez un nombre\")\n",
    "double = nb * 2\n",
    "print(\"Le double de\", nb, \"est\",double )"
   ]
  },
  {
   "cell_type": "markdown",
   "metadata": {},
   "source": [
    "Avez-vous obtenu le résultat espéré ?  \n",
    "Pourquoi ?  \n",
    "Nous avons vu précédement la fonction `str` qui permet de transformer en chaine de caractère.  \n",
    "De la même manière la fonction `int` renvoie l'entier correspondant à la chaine de caractère passée en paramètre.  \n",
    "\n",
    "  \n",
    "Par exemple int(\"4\") renvoie 4 ; observez exemple ci-dessous"
   ]
  },
  {
   "cell_type": "code",
   "execution_count": null,
   "metadata": {},
   "outputs": [],
   "source": [
    "int(\"4\") + int(\"3\")"
   ]
  },
  {
   "cell_type": "markdown",
   "metadata": {},
   "source": [
    "Debugguez alors, le code qui calculait le double."
   ]
  },
  {
   "cell_type": "markdown",
   "metadata": {},
   "source": [
    "## 6. Premiers programmes\n",
    "Un programme est une suite d'instructions.  \n",
    "Ecrire un programme qui demande le nom puis le prénom et affiche un message du type :  \n",
    "`Bonjour Urbain LeVerrier`"
   ]
  },
  {
   "cell_type": "code",
   "execution_count": null,
   "metadata": {},
   "outputs": [],
   "source": [
    "# demande nom et prénom puis salue.\n",
    "#todo"
   ]
  },
  {
   "cell_type": "markdown",
   "metadata": {},
   "source": [
    "Ecrire un programme qui demande une année de naissance puis affiche un message indiquant l'age."
   ]
  },
  {
   "cell_type": "code",
   "execution_count": null,
   "metadata": {},
   "outputs": [],
   "source": [
    "# demande l'année de naissance puis affiche l'age.\n",
    "#TODO"
   ]
  },
  {
   "cell_type": "markdown",
   "metadata": {},
   "source": [
    "## 7. Fonctions\n",
    "Dans l'environement  Python vous disposez de fonctions directement utilisables : les fonctions natives (`built-in function` en anglais).  \n",
    "Nous avons déja rencontré les fonctions suivantes  :\n",
    "\n",
    "- `type` : renvoie le type de l'objet passé en paramètre.  \n",
    "- `print` : affiche les objets passés en paramètre.  \n",
    "- `input` : renvoie la chaine de caractère saisie au clavier.\n",
    "- `str` : renvoie la chaine de carractère correspondant au paramètre  \n",
    "- `int` : renvoie l'entier correspondant au paramètre     \n",
    "  \n",
    "Imaginons que nous ayont besoin plusieurs fois, dans un même programme,de calculer l'aire d'un carré.   \n",
    "Il faudrait réérire plusieurs fois les mêmes instructions : \n"
   ]
  },
  {
   "cell_type": "code",
   "execution_count": null,
   "metadata": {},
   "outputs": [],
   "source": [
    "#Calcule l'aire d'un carré de coté 3\n",
    "cote = 3\n",
    "aire_carre3 = cote ** 2\n",
    "\n",
    "#Calcule l'aire d'un carré de coté 4\n",
    "cote = 4\n",
    "aire_carre4 = cote ** 2\n",
    "\n",
    "#Calcule l'aire d'un carré de coté 5\n",
    "cote = 5\n",
    "aire_carre5 = cote ** 2\n",
    "\n",
    "aire_totale = aire_carre3 + aire_carre4 + aire_carre5\n",
    "print(\"La somme des aires des carrés de coté 3, 4 et 5 est\", aire_totale)"
   ]
  },
  {
   "cell_type": "markdown",
   "metadata": {},
   "source": [
    "Si il y a une chose que deteste un programmeur c'est ça !!  \n",
    "A la place on va écrire le code une seule fois dans une fonction.  \n",
    "Et on pourra appeler cette fonction autant de fois que necessaire.\n",
    "Les fonctions permettent de décomposer un programme complexe en une série de sous-programmes plus simples.  \n",
    "De plus, les fonctions sont réutilisables. (au même titre que les fonctions str, print, ...)   \n",
    "En voici un exemple :"
   ]
  },
  {
   "cell_type": "code",
   "execution_count": null,
   "metadata": {},
   "outputs": [],
   "source": [
    "def aire_carre(cote):   # Le mot cléf def permet de définir une fonction, cette fonction a 1 paramètre : cote\n",
    "    aire = cote * cote  # l'interieur de la fonction est décallé (on dira indenté)\n",
    "    return aire         # ce que renvoie la fonction\n",
    "\n",
    "aire_1 = aire_carre(3)  # L'appel de la fonction se fait en remplaçant le paramètre par une valeur (ici 3)\n",
    "aire_2 = aire_carre(4)  # La fonction renvoie un résultat\n",
    "aire_3 = aire_carre(5)  # on place le résultat de la fonction dans une variable\n",
    "aire_totale = aire_1 + aire_2 + aire_3\n",
    "\n",
    "print(\"La somme des aires des carrés de coté 3, 4 et 5 est\", aire_totale)"
   ]
  },
  {
   "cell_type": "markdown",
   "metadata": {},
   "source": [
    "### 7a. Ma première fonction\n",
    "Ecrire une fonction calcule_prix prenant en paramètre un nombre d'objets et renvoie le prix en euros. Sachant qu'un objet coute 24,61 euros"
   ]
  },
  {
   "cell_type": "code",
   "execution_count": null,
   "metadata": {},
   "outputs": [],
   "source": [
    "def calcule_prix(nombre):\n",
    "    #todo"
   ]
  },
  {
   "cell_type": "markdown",
   "metadata": {},
   "source": [
    "Pour tester votre fonction, éxécutez la cellule suivante.  \n",
    "Vous devez obtenir le message :\n",
    "`Le tarif pour 7 objets est de  (172.26999999999998, 2) euros.`"
   ]
  },
  {
   "cell_type": "code",
   "execution_count": null,
   "metadata": {},
   "outputs": [],
   "source": [
    "prix_a_payer = calcule_prix(7)\n",
    "print(\"Le tarif pour 7 objets est de \", prix_a_payer, \"euros.\")"
   ]
  },
  {
   "cell_type": "markdown",
   "metadata": {},
   "source": [
    "La fonction `round(number,ndigits) ` prend deux paramètres :\n",
    "- number un nombre que l'on souhaire arrondir\n",
    "- ndigits le nombre de décimales souhaités (si ce parametre est omis la fonction renvoie l'entier)  \n",
    "\n",
    "et renvoie l'arrondi du nombre avec le nombre de décimales souhaité.\n",
    "Par exemple `round(99.12345, 3)` renvoie 99.123\n",
    "\n",
    "Modifiez alors votre fonction calcule_prix pour que le prix renvoyer soit arrondi à deux décimales.  \n",
    "Vous devez obtenir le message :\n",
    "`Le tarif pour 7 objets est de  172.27 euros.`\n"
   ]
  },
  {
   "cell_type": "markdown",
   "metadata": {},
   "source": [
    "### 7b. Une fonction avec 2 paramètres\n",
    "Ecrivez la fonction `moyenne(note1, note2)` qui renvoie la moyenne des deux notes"
   ]
  },
  {
   "cell_type": "code",
   "execution_count": null,
   "metadata": {},
   "outputs": [],
   "source": [
    "#calcule la moyenne des deux notes\n",
    "#todo"
   ]
  },
  {
   "cell_type": "markdown",
   "metadata": {},
   "source": [
    "Ecrivez un test pour votre fonction"
   ]
  },
  {
   "cell_type": "code",
   "execution_count": null,
   "metadata": {},
   "outputs": [],
   "source": [
    "# test de la fonction moyenne\n",
    "#todo"
   ]
  },
  {
   "cell_type": "markdown",
   "metadata": {},
   "source": [
    "## 8 Exercice - Treck en montagne\n",
    "Le but de l'exercice est de récupérer les horaires de départ et d'arrivée des concurrents et de renvoyer leurs temps.  \n",
    "Ecrire les fonction suivantes :\n",
    "- la fonction `converti_en_minute(heure, minute)` qui renvoie le nombre de minutes  \n",
    "par exemple `converti_en_minute(2, 8)` renvoie 128  \n",
    "  \n",
    "  \n",
    "- la fonction `converti_en_heure_minute(minute)` qui affiche le nombre de minutes  \n",
    "par exemple `converti_en_heure_minute(128)` affiche `2 heure(s) 8 minute(s)`  \n",
    "  \n",
    "  \n",
    "- la fonction `demande_horaire()` qui demande l'heure puis les minute et renvoie le nombre de minute en utilisant la fonction précédente converti_en_minute    \n",
    "  \n",
    "  \n",
    "- la fonction `calcule temps()` qui demande les horaires de départ puis d'arrivée d'un concurrent puis affiche le temps "
   ]
  },
  {
   "cell_type": "code",
   "execution_count": 4,
   "metadata": {},
   "outputs": [
    {
     "data": {
      "text/plain": [
       "128"
      ]
     },
     "execution_count": 4,
     "metadata": {},
     "output_type": "execute_result"
    }
   ],
   "source": [
    "# renvoie le nombre de minutes \n",
    "def converti_en_minute(heure, minute):\n",
    "    return heure * 60 + minute\n",
    "\n",
    "converti_en_minute(2,8)"
   ]
  },
  {
   "cell_type": "code",
   "execution_count": 5,
   "metadata": {},
   "outputs": [
    {
     "name": "stdout",
     "output_type": "stream",
     "text": [
      "2 heure(s) 8 minute(s)\n"
     ]
    }
   ],
   "source": [
    "# affiche le nombre de minutes\n",
    "def converti_en_heure_minute(minute):\n",
    "    h = minute // 60\n",
    "    m = minute % 60\n",
    "    print(h, \"heure(s)\", m, \"minute(s)\")\n",
    "\n",
    "converti_en_heure_minute(128)"
   ]
  },
  {
   "cell_type": "code",
   "execution_count": 8,
   "metadata": {},
   "outputs": [
    {
     "name": "stdout",
     "output_type": "stream",
     "text": [
      "heure ?1\n",
      "minutes ?2\n"
     ]
    },
    {
     "data": {
      "text/plain": [
       "62"
      ]
     },
     "execution_count": 8,
     "metadata": {},
     "output_type": "execute_result"
    }
   ],
   "source": [
    "# demande un horaire\n",
    "def demande_horaire():\n",
    "    h = int(input(\"heure ?\"))\n",
    "    m = int(input(\"minutes ?\"))\n",
    "    return converti_en_minute(h,m)\n",
    "\n",
    "\n",
    "demande_horaire()  "
   ]
  }
 ],
 "metadata": {
  "kernelspec": {
   "display_name": "Python 3",
   "language": "python",
   "name": "python3"
  },
  "language_info": {
   "codemirror_mode": {
    "name": "ipython",
    "version": 3
   },
   "file_extension": ".py",
   "mimetype": "text/x-python",
   "name": "python",
   "nbconvert_exporter": "python",
   "pygments_lexer": "ipython3",
   "version": "3.7.3"
  }
 },
 "nbformat": 4,
 "nbformat_minor": 2
}
